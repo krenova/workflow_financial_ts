{
  "cells": [
    {
      "cell_type": "markdown",
      "metadata": {
        "colab_type": "text",
        "id": "vVfmDQwCwV8j"
      },
      "source": [
        "https://saralgyaan.com/posts/python-candlestick-chart-matplotlib-tutorial-chapter-11/\n"
      ]
    },
    {
      "cell_type": "code",
      "execution_count": 2,
      "metadata": {
        "colab": {},
        "colab_type": "code",
        "id": "DRwrGVy9iyCO",
        "trusted": true
      },
      "outputs": [],
      "source": [
        "import pandas as pd\n",
        "import numpy as np\n",
        "import yfinance\n",
        "from mplfinance.original_flavor import candlestick_ohlc\n",
        "from lightweight_charts import Chart"
      ]
    },
    {
      "cell_type": "code",
      "execution_count": 3,
      "metadata": {
        "colab": {},
        "colab_type": "code",
        "id": "6u85RbZpjIk2"
      },
      "outputs": [],
      "source": [
        "name = 'SPY'\n",
        "ticker = yfinance.Ticker(name)\n",
        "df = ticker.history(interval=\"1d\",start=\"2022-08-20\",end=\"2023-08-20\")"
      ]
    },
    {
      "cell_type": "code",
      "execution_count": 4,
      "metadata": {},
      "outputs": [],
      "source": [
        "df['Date'] = pd.to_datetime(df.index)\n",
        "# df['Date'] = df['Date'].apply(mpl_dates.date2num)\n",
        "\n",
        "df = df.loc[:,['Date', 'Open', 'High', 'Low', 'Close','Volume']]\n",
        "df = df.assign(Date = lambda dat: dat['Date'].dt.date)"
      ]
    },
    {
      "cell_type": "code",
      "execution_count": 14,
      "metadata": {},
      "outputs": [],
      "source": [
        "supports = df[df.Low==df.Low.rolling(3, center=True).min()].Low\n",
        "resistances = df[df.High==df.High.rolling(3, center=True).max()].High\n",
        "supports = supports.iloc[::-1].expanding().min().drop_duplicates().iloc[::-1]\n",
        "resistances = resistances.iloc[::-1].expanding().max().drop_duplicates().iloc[::-1]"
      ]
    },
    {
      "cell_type": "code",
      "execution_count": 15,
      "metadata": {},
      "outputs": [
        {
          "ename": "RuntimeError",
          "evalue": "asyncio.run() cannot be called from a running event loop",
          "output_type": "error",
          "traceback": [
            "\u001b[1;31m---------------------------------------------------------------------------\u001b[0m",
            "\u001b[1;31mRuntimeError\u001b[0m                              Traceback (most recent call last)",
            "\u001b[1;32mf:\\nextcloud_work\\Dev\\Support_and_resistance - Copy.ipynb Cell 6\u001b[0m line \u001b[0;36m1\n\u001b[0;32m      <a href='vscode-notebook-cell:/f%3A/nextcloud_work/Dev/Support_and_resistance%20-%20Copy.ipynb#X20sZmlsZQ%3D%3D?line=7'>8</a>\u001b[0m \u001b[39m# Columns: time | open | high | low | close | volume \u001b[39;00m\n\u001b[0;32m      <a href='vscode-notebook-cell:/f%3A/nextcloud_work/Dev/Support_and_resistance%20-%20Copy.ipynb#X20sZmlsZQ%3D%3D?line=8'>9</a>\u001b[0m chart\u001b[39m.\u001b[39mset(df)\n\u001b[1;32m---> <a href='vscode-notebook-cell:/f%3A/nextcloud_work/Dev/Support_and_resistance%20-%20Copy.ipynb#X20sZmlsZQ%3D%3D?line=9'>10</a>\u001b[0m chart\u001b[39m.\u001b[39;49mshow(block\u001b[39m=\u001b[39;49m\u001b[39mTrue\u001b[39;49;00m)\n",
            "File \u001b[1;32mc:\\Users\\work\\AppData\\Local\\Programs\\Python\\Python311\\Lib\\site-packages\\lightweight_charts\\chart.py:108\u001b[0m, in \u001b[0;36mChart.show\u001b[1;34m(self, block)\u001b[0m\n\u001b[0;32m    106\u001b[0m     \u001b[39mself\u001b[39m\u001b[39m.\u001b[39m_q\u001b[39m.\u001b[39mput((\u001b[39mself\u001b[39m\u001b[39m.\u001b[39m_i, \u001b[39m'\u001b[39m\u001b[39mshow\u001b[39m\u001b[39m'\u001b[39m))\n\u001b[0;32m    107\u001b[0m \u001b[39mif\u001b[39;00m block:\n\u001b[1;32m--> 108\u001b[0m     asyncio\u001b[39m.\u001b[39;49mrun(\u001b[39mself\u001b[39;49m\u001b[39m.\u001b[39;49mshow_async(block\u001b[39m=\u001b[39;49m\u001b[39mTrue\u001b[39;49;00m))\n",
            "File \u001b[1;32mc:\\Users\\work\\AppData\\Local\\Programs\\Python\\Python311\\Lib\\asyncio\\runners.py:186\u001b[0m, in \u001b[0;36mrun\u001b[1;34m(main, debug)\u001b[0m\n\u001b[0;32m    161\u001b[0m \u001b[39m\u001b[39m\u001b[39m\"\"\"Execute the coroutine and return the result.\u001b[39;00m\n\u001b[0;32m    162\u001b[0m \n\u001b[0;32m    163\u001b[0m \u001b[39mThis function runs the passed coroutine, taking care of\u001b[39;00m\n\u001b[1;32m   (...)\u001b[0m\n\u001b[0;32m    182\u001b[0m \u001b[39m    asyncio.run(main())\u001b[39;00m\n\u001b[0;32m    183\u001b[0m \u001b[39m\"\"\"\u001b[39;00m\n\u001b[0;32m    184\u001b[0m \u001b[39mif\u001b[39;00m events\u001b[39m.\u001b[39m_get_running_loop() \u001b[39mis\u001b[39;00m \u001b[39mnot\u001b[39;00m \u001b[39mNone\u001b[39;00m:\n\u001b[0;32m    185\u001b[0m     \u001b[39m# fail fast with short traceback\u001b[39;00m\n\u001b[1;32m--> 186\u001b[0m     \u001b[39mraise\u001b[39;00m \u001b[39mRuntimeError\u001b[39;00m(\n\u001b[0;32m    187\u001b[0m         \u001b[39m\"\u001b[39m\u001b[39masyncio.run() cannot be called from a running event loop\u001b[39m\u001b[39m\"\u001b[39m)\n\u001b[0;32m    189\u001b[0m \u001b[39mwith\u001b[39;00m Runner(debug\u001b[39m=\u001b[39mdebug) \u001b[39mas\u001b[39;00m runner:\n\u001b[0;32m    190\u001b[0m     \u001b[39mreturn\u001b[39;00m runner\u001b[39m.\u001b[39mrun(main)\n",
            "\u001b[1;31mRuntimeError\u001b[0m: asyncio.run() cannot be called from a running event loop"
          ]
        }
      ],
      "source": [
        "chart = Chart()\n",
        "\n",
        "for price in resistances:\n",
        "    chart.horizontal_line(price=price,color='#660000',style='dashed', width=0.5)\n",
        "for price in supports:\n",
        "    chart.horizontal_line(price=price,color='#006600',style='dashed', width=0.5)\n",
        "\n",
        "# Columns: time | open | high | low | close | volume \n",
        "chart.set(df)\n",
        "chart.show(block=True)"
      ]
    },
    {
      "cell_type": "code",
      "execution_count": 9,
      "metadata": {},
      "outputs": [
        {
          "ename": "RuntimeError",
          "evalue": "asyncio.run() cannot be called from a running event loop",
          "output_type": "error",
          "traceback": [
            "\u001b[1;31m---------------------------------------------------------------------------\u001b[0m",
            "\u001b[1;31mRuntimeError\u001b[0m                              Traceback (most recent call last)",
            "\u001b[1;32mf:\\nextcloud_work\\Dev\\Support_and_resistance - Copy.ipynb Cell 9\u001b[0m line \u001b[0;36m5\n\u001b[0;32m      <a href='vscode-notebook-cell:/f%3A/nextcloud_work/Dev/Support_and_resistance%20-%20Copy.ipynb#X22sZmlsZQ%3D%3D?line=2'>3</a>\u001b[0m chart\u001b[39m.\u001b[39mset(df)\n\u001b[0;32m      <a href='vscode-notebook-cell:/f%3A/nextcloud_work/Dev/Support_and_resistance%20-%20Copy.ipynb#X22sZmlsZQ%3D%3D?line=3'>4</a>\u001b[0m chart\u001b[39m.\u001b[39mhorizontal_line(price\u001b[39m=\u001b[39mresistances[\u001b[39m0\u001b[39m], color\u001b[39m=\u001b[39m\u001b[39m'\u001b[39m\u001b[39m#006600\u001b[39m\u001b[39m'\u001b[39m, style\u001b[39m=\u001b[39m\u001b[39m'\u001b[39m\u001b[39mdashed\u001b[39m\u001b[39m'\u001b[39m,width\u001b[39m=\u001b[39m\u001b[39m0.5\u001b[39m)\n\u001b[1;32m----> <a href='vscode-notebook-cell:/f%3A/nextcloud_work/Dev/Support_and_resistance%20-%20Copy.ipynb#X22sZmlsZQ%3D%3D?line=4'>5</a>\u001b[0m chart\u001b[39m.\u001b[39;49mshow(block\u001b[39m=\u001b[39;49m\u001b[39mTrue\u001b[39;49;00m)\n",
            "File \u001b[1;32mc:\\Users\\work\\AppData\\Local\\Programs\\Python\\Python311\\Lib\\site-packages\\lightweight_charts\\chart.py:108\u001b[0m, in \u001b[0;36mChart.show\u001b[1;34m(self, block)\u001b[0m\n\u001b[0;32m    106\u001b[0m     \u001b[39mself\u001b[39m\u001b[39m.\u001b[39m_q\u001b[39m.\u001b[39mput((\u001b[39mself\u001b[39m\u001b[39m.\u001b[39m_i, \u001b[39m'\u001b[39m\u001b[39mshow\u001b[39m\u001b[39m'\u001b[39m))\n\u001b[0;32m    107\u001b[0m \u001b[39mif\u001b[39;00m block:\n\u001b[1;32m--> 108\u001b[0m     asyncio\u001b[39m.\u001b[39;49mrun(\u001b[39mself\u001b[39;49m\u001b[39m.\u001b[39;49mshow_async(block\u001b[39m=\u001b[39;49m\u001b[39mTrue\u001b[39;49;00m))\n",
            "File \u001b[1;32mc:\\Users\\work\\AppData\\Local\\Programs\\Python\\Python311\\Lib\\asyncio\\runners.py:186\u001b[0m, in \u001b[0;36mrun\u001b[1;34m(main, debug)\u001b[0m\n\u001b[0;32m    161\u001b[0m \u001b[39m\u001b[39m\u001b[39m\"\"\"Execute the coroutine and return the result.\u001b[39;00m\n\u001b[0;32m    162\u001b[0m \n\u001b[0;32m    163\u001b[0m \u001b[39mThis function runs the passed coroutine, taking care of\u001b[39;00m\n\u001b[1;32m   (...)\u001b[0m\n\u001b[0;32m    182\u001b[0m \u001b[39m    asyncio.run(main())\u001b[39;00m\n\u001b[0;32m    183\u001b[0m \u001b[39m\"\"\"\u001b[39;00m\n\u001b[0;32m    184\u001b[0m \u001b[39mif\u001b[39;00m events\u001b[39m.\u001b[39m_get_running_loop() \u001b[39mis\u001b[39;00m \u001b[39mnot\u001b[39;00m \u001b[39mNone\u001b[39;00m:\n\u001b[0;32m    185\u001b[0m     \u001b[39m# fail fast with short traceback\u001b[39;00m\n\u001b[1;32m--> 186\u001b[0m     \u001b[39mraise\u001b[39;00m \u001b[39mRuntimeError\u001b[39;00m(\n\u001b[0;32m    187\u001b[0m         \u001b[39m\"\u001b[39m\u001b[39masyncio.run() cannot be called from a running event loop\u001b[39m\u001b[39m\"\u001b[39m)\n\u001b[0;32m    189\u001b[0m \u001b[39mwith\u001b[39;00m Runner(debug\u001b[39m=\u001b[39mdebug) \u001b[39mas\u001b[39;00m runner:\n\u001b[0;32m    190\u001b[0m     \u001b[39mreturn\u001b[39;00m runner\u001b[39m.\u001b[39mrun(main)\n",
            "\u001b[1;31mRuntimeError\u001b[0m: asyncio.run() cannot be called from a running event loop"
          ]
        }
      ],
      "source": [
        "chart = Chart()\n",
        "# Columns: time | open | high | low | close | volume \n",
        "chart.set(df)\n",
        "chart.horizontal_line(price=resistances[0], color='#006600', style='dashed',width=0.5)\n",
        "chart.show(block=True)"
      ]
    },
    {
      "cell_type": "code",
      "execution_count": 6,
      "metadata": {},
      "outputs": [
        {
          "ename": "NameError",
          "evalue": "name 'rgb' is not defined",
          "output_type": "error",
          "traceback": [
            "\u001b[1;31m---------------------------------------------------------------------------\u001b[0m",
            "\u001b[1;31mNameError\u001b[0m                                 Traceback (most recent call last)",
            "\u001b[1;32mf:\\nextcloud_work\\Dev\\Support_and_resistance - Copy.ipynb Cell 10\u001b[0m line \u001b[0;36m1\n\u001b[1;32m----> <a href='vscode-notebook-cell:/f%3A/nextcloud_work/Dev/Support_and_resistance%20-%20Copy.ipynb#X23sZmlsZQ%3D%3D?line=0'>1</a>\u001b[0m rgb(\u001b[39m3\u001b[39m,\u001b[39m2\u001b[39m,\u001b[39m3\u001b[39m)\n",
            "\u001b[1;31mNameError\u001b[0m: name 'rgb' is not defined"
          ]
        }
      ],
      "source": [
        "rgb(3,2,3)"
      ]
    },
    {
      "cell_type": "code",
      "execution_count": 7,
      "metadata": {},
      "outputs": [
        {
          "data": {
            "text/plain": [
              "'0x19c8'"
            ]
          },
          "execution_count": 7,
          "metadata": {},
          "output_type": "execute_result"
        }
      ],
      "source": [
        "hex(6600)"
      ]
    },
    {
      "cell_type": "code",
      "execution_count": null,
      "metadata": {},
      "outputs": [],
      "source": []
    }
  ],
  "metadata": {
    "colab": {
      "name": "Support and resistance.ipynb",
      "provenance": []
    },
    "kernelspec": {
      "display_name": "Python 3",
      "language": "python",
      "name": "python3"
    },
    "language_info": {
      "codemirror_mode": {
        "name": "ipython",
        "version": 3
      },
      "file_extension": ".py",
      "mimetype": "text/x-python",
      "name": "python",
      "nbconvert_exporter": "python",
      "pygments_lexer": "ipython3",
      "version": "3.11.4"
    }
  },
  "nbformat": 4,
  "nbformat_minor": 0
}
